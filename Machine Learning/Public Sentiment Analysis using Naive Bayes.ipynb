{
 "cells": [
  {
   "cell_type": "markdown",
   "id": "7dff1ff7",
   "metadata": {},
   "source": [
    "# Public Sentiment Analysis using Naive Bayes"
   ]
  },
  {
   "cell_type": "markdown",
   "id": "572db141",
   "metadata": {},
   "source": [
    "In this micro project, we will work with DKI Jakarta resident tweets data set about Indonesia capital city transfer to Penajam Paser Utara, East Kalimantan. As this is a supervised classification case, a Naive Bayes model is well suited here. We will build a Naive Bayes model to predict / classify which tweet has positive sentiment and which tweet has negative sentiment. The purpose of this micro project is to answer 2 questions:\n",
    "1. Does DKI Jakarta resident agree or disagree to transfer the capital city to Penajam Paser Utara, East Kalimantan?\n",
    "2. What is the reason or cause of their agreement / disagreement?\n",
    "\n",
    "The data used in this micro project are acquired from web scraping using Twitter API."
   ]
  },
  {
   "cell_type": "code",
   "execution_count": 1,
   "id": "e9bd492c",
   "metadata": {},
   "outputs": [],
   "source": [
    "import json, tweepy, re, string, tqdm\n",
    "import pandas as pd\n",
    "from nltk.corpus import stopwords\n",
    "from nltk.tokenize import word_tokenize\n",
    "import numpy as np\n",
    "from nltk.probability import FreqDist\n",
    "from gensim import corpora\n",
    "from gensim.models.ldamodel import LdaModel\n",
    "from gensim.models.coherencemodel import CoherenceModel\n",
    "from gensim.models.ldamulticore import LdaMulticore\n",
    "from gensim.utils import ClippedCorpus\n",
    "from pprint import pprint\n",
    "from nltk import ngrams\n",
    "from sklearn.feature_extraction.text import TfidfVectorizer\n",
    "from sklearn.naive_bayes import GaussianNB\n",
    "from sklearn.model_selection import train_test_split\n",
    "from sklearn.metrics import classification_report, confusion_matrix, accuracy_score"
   ]
  },
  {
   "cell_type": "markdown",
   "id": "0ea76adf",
   "metadata": {},
   "source": [
    "## Data Collection"
   ]
  },
  {
   "cell_type": "markdown",
   "id": "a244408b",
   "metadata": {},
   "source": [
    "#### Web Scraping - Twitter API"
   ]
  },
  {
   "cell_type": "markdown",
   "id": "26cd1c9a",
   "metadata": {},
   "source": [
    "Token, authentication and API variable preparation. I named the token \"token.json\"."
   ]
  },
  {
   "cell_type": "code",
   "execution_count": 2,
   "id": "b54312b4",
   "metadata": {},
   "outputs": [],
   "source": [
    "with open(\"token.json\")as f:\n",
    "    tokens = json.load(f)\n",
    "\n",
    "bearer_token = tokens[\"bearer_token\"]\n",
    "api_key = tokens[\"api_key\"]\n",
    "api_key_secret = tokens[\"api_key_secret\"]\n",
    "access_token = tokens[\"access_token\"]\n",
    "access_token_secret = tokens[\"access_token_secret\"]\n",
    "\n",
    "auth = tweepy.OAuthHandler(api_key, api_key_secret)\n",
    "auth.set_access_token(access_token, access_token_secret)\n",
    "api = tweepy.API(auth, wait_on_rate_limit=True)"
   ]
  },
  {
   "cell_type": "markdown",
   "id": "addf780e",
   "metadata": {},
   "source": [
    "Define request parameter variables."
   ]
  },
  {
   "cell_type": "code",
   "execution_count": 3,
   "id": "154ade7f",
   "metadata": {},
   "outputs": [],
   "source": [
    "keyword = \"ibu kota negara\"\n",
    "until_date = \"2022-01-27\"                # last search date\n",
    "location = \"-6.203013,106.846634,30km\"   # search location coordinate and the radius\n",
    "max_result = 300"
   ]
  },
  {
   "cell_type": "markdown",
   "id": "158fd103",
   "metadata": {},
   "source": [
    "Make request to Twitter API."
   ]
  },
  {
   "cell_type": "code",
   "execution_count": 4,
   "id": "a1cda73d",
   "metadata": {},
   "outputs": [],
   "source": [
    "query = keyword + \" -is:retweet\"   # filtering retweet\n",
    "tweets = tweepy.Cursor(api.search_tweets,\n",
    "                       q=query,\n",
    "                       geocode=location,\n",
    "                       lang=\"id\",\n",
    "                       until=until_date\n",
    "                      ).items(max_result)"
   ]
  },
  {
   "cell_type": "markdown",
   "id": "0d9fdc42",
   "metadata": {},
   "source": [
    "Save request/scrape result to a Dataframe."
   ]
  },
  {
   "cell_type": "code",
   "execution_count": 5,
   "id": "1bc2c531",
   "metadata": {},
   "outputs": [
    {
     "data": {
      "text/html": [
       "<div>\n",
       "<style scoped>\n",
       "    .dataframe tbody tr th:only-of-type {\n",
       "        vertical-align: middle;\n",
       "    }\n",
       "\n",
       "    .dataframe tbody tr th {\n",
       "        vertical-align: top;\n",
       "    }\n",
       "\n",
       "    .dataframe thead th {\n",
       "        text-align: right;\n",
       "    }\n",
       "</style>\n",
       "<table border=\"1\" class=\"dataframe\">\n",
       "  <thead>\n",
       "    <tr style=\"text-align: right;\">\n",
       "      <th></th>\n",
       "      <th>Created At</th>\n",
       "      <th>Tweet</th>\n",
       "    </tr>\n",
       "  </thead>\n",
       "  <tbody>\n",
       "    <tr>\n",
       "      <th>0</th>\n",
       "      <td>2022-01-26 23:56:45+00:00</td>\n",
       "      <td>Gak kredibel tapi jadi menteri. \\nMakin memper...</td>\n",
       "    </tr>\n",
       "    <tr>\n",
       "      <th>1</th>\n",
       "      <td>2022-01-26 23:30:27+00:00</td>\n",
       "      <td>@democrazymedia Woi,  ibu kota itu salah 1 bag...</td>\n",
       "    </tr>\n",
       "    <tr>\n",
       "      <th>2</th>\n",
       "      <td>2022-01-26 22:47:31+00:00</td>\n",
       "      <td>Kantor Staf Presiden (KSP) memastikan skema pe...</td>\n",
       "    </tr>\n",
       "    <tr>\n",
       "      <th>3</th>\n",
       "      <td>2022-01-26 22:01:40+00:00</td>\n",
       "      <td>Pembangunan ibu kota negara (IKN0 membawa manf...</td>\n",
       "    </tr>\n",
       "    <tr>\n",
       "      <th>4</th>\n",
       "      <td>2022-01-26 22:01:39+00:00</td>\n",
       "      <td>Pembangunan ibu kota negara (IKN0 membawa manf...</td>\n",
       "    </tr>\n",
       "    <tr>\n",
       "      <th>...</th>\n",
       "      <td>...</td>\n",
       "      <td>...</td>\n",
       "    </tr>\n",
       "    <tr>\n",
       "      <th>295</th>\n",
       "      <td>2022-01-23 03:28:46+00:00</td>\n",
       "      <td>Ibu Kota Negara Pindah ke Kaltim, Anies Yakin ...</td>\n",
       "    </tr>\n",
       "    <tr>\n",
       "      <th>296</th>\n",
       "      <td>2022-01-23 03:22:56+00:00</td>\n",
       "      <td>5 Negara Ini Dinilai Gagal Memindahkan Ibu Kot...</td>\n",
       "    </tr>\n",
       "    <tr>\n",
       "      <th>297</th>\n",
       "      <td>2022-01-23 03:00:08+00:00</td>\n",
       "      <td>UU Ibu Kota Negara Bisa Dibatalkan MK, Ini Ala...</td>\n",
       "    </tr>\n",
       "    <tr>\n",
       "      <th>298</th>\n",
       "      <td>2022-01-23 02:56:05+00:00</td>\n",
       "      <td>Disahkan DPR, Faisal Basri akan Gugat UU Ibu K...</td>\n",
       "    </tr>\n",
       "    <tr>\n",
       "      <th>299</th>\n",
       "      <td>2022-01-23 02:49:09+00:00</td>\n",
       "      <td>Kawan Kabinet, seperti telah diketahui, pemeri...</td>\n",
       "    </tr>\n",
       "  </tbody>\n",
       "</table>\n",
       "<p>300 rows × 2 columns</p>\n",
       "</div>"
      ],
      "text/plain": [
       "                   Created At  \\\n",
       "0   2022-01-26 23:56:45+00:00   \n",
       "1   2022-01-26 23:30:27+00:00   \n",
       "2   2022-01-26 22:47:31+00:00   \n",
       "3   2022-01-26 22:01:40+00:00   \n",
       "4   2022-01-26 22:01:39+00:00   \n",
       "..                        ...   \n",
       "295 2022-01-23 03:28:46+00:00   \n",
       "296 2022-01-23 03:22:56+00:00   \n",
       "297 2022-01-23 03:00:08+00:00   \n",
       "298 2022-01-23 02:56:05+00:00   \n",
       "299 2022-01-23 02:49:09+00:00   \n",
       "\n",
       "                                                 Tweet  \n",
       "0    Gak kredibel tapi jadi menteri. \\nMakin memper...  \n",
       "1    @democrazymedia Woi,  ibu kota itu salah 1 bag...  \n",
       "2    Kantor Staf Presiden (KSP) memastikan skema pe...  \n",
       "3    Pembangunan ibu kota negara (IKN0 membawa manf...  \n",
       "4    Pembangunan ibu kota negara (IKN0 membawa manf...  \n",
       "..                                                 ...  \n",
       "295  Ibu Kota Negara Pindah ke Kaltim, Anies Yakin ...  \n",
       "296  5 Negara Ini Dinilai Gagal Memindahkan Ibu Kot...  \n",
       "297  UU Ibu Kota Negara Bisa Dibatalkan MK, Ini Ala...  \n",
       "298  Disahkan DPR, Faisal Basri akan Gugat UU Ibu K...  \n",
       "299  Kawan Kabinet, seperti telah diketahui, pemeri...  \n",
       "\n",
       "[300 rows x 2 columns]"
      ]
     },
     "execution_count": 5,
     "metadata": {},
     "output_type": "execute_result"
    }
   ],
   "source": [
    "items = []\n",
    "for tweet in tweets:\n",
    "    items.append([tweet.created_at, tweet.text])\n",
    "\n",
    "df = pd.DataFrame(data=items, columns=[\"Created At\", \"Tweet\"])\n",
    "df"
   ]
  },
  {
   "cell_type": "markdown",
   "id": "54f48930",
   "metadata": {},
   "source": [
    "For model training, we already have classified data set. Let's load it."
   ]
  },
  {
   "cell_type": "code",
   "execution_count": 5,
   "id": "59717e68",
   "metadata": {},
   "outputs": [
    {
     "data": {
      "text/html": [
       "<div>\n",
       "<style scoped>\n",
       "    .dataframe tbody tr th:only-of-type {\n",
       "        vertical-align: middle;\n",
       "    }\n",
       "\n",
       "    .dataframe tbody tr th {\n",
       "        vertical-align: top;\n",
       "    }\n",
       "\n",
       "    .dataframe thead th {\n",
       "        text-align: right;\n",
       "    }\n",
       "</style>\n",
       "<table border=\"1\" class=\"dataframe\">\n",
       "  <thead>\n",
       "    <tr style=\"text-align: right;\">\n",
       "      <th></th>\n",
       "      <th>Sentiment</th>\n",
       "      <th>Teks</th>\n",
       "    </tr>\n",
       "  </thead>\n",
       "  <tbody>\n",
       "    <tr>\n",
       "      <th>0</th>\n",
       "      <td>negative</td>\n",
       "      <td>&lt;USERNAME&gt; TOLOL!! Gak ada hubungan nya kegug...</td>\n",
       "    </tr>\n",
       "    <tr>\n",
       "      <th>1</th>\n",
       "      <td>negative</td>\n",
       "      <td>Geblek lo tata...cowo bgt dibela2in balikan......</td>\n",
       "    </tr>\n",
       "    <tr>\n",
       "      <th>2</th>\n",
       "      <td>negative</td>\n",
       "      <td>Kmrn termewek2 skr lengket lg duhhh kok labil ...</td>\n",
       "    </tr>\n",
       "    <tr>\n",
       "      <th>3</th>\n",
       "      <td>negative</td>\n",
       "      <td>Intinya kalau kesel dengan ATT nya, gausah ke ...</td>\n",
       "    </tr>\n",
       "    <tr>\n",
       "      <th>4</th>\n",
       "      <td>negative</td>\n",
       "      <td>hadewwwww permpuan itu lg!!!!sakit jiwa,knp ha...</td>\n",
       "    </tr>\n",
       "  </tbody>\n",
       "</table>\n",
       "</div>"
      ],
      "text/plain": [
       "  Sentiment                                               Teks\n",
       "0  negative   <USERNAME> TOLOL!! Gak ada hubungan nya kegug...\n",
       "1  negative  Geblek lo tata...cowo bgt dibela2in balikan......\n",
       "2  negative  Kmrn termewek2 skr lengket lg duhhh kok labil ...\n",
       "3  negative  Intinya kalau kesel dengan ATT nya, gausah ke ...\n",
       "4  negative  hadewwwww permpuan itu lg!!!!sakit jiwa,knp ha..."
      ]
     },
     "execution_count": 5,
     "metadata": {},
     "output_type": "execute_result"
    }
   ],
   "source": [
    "df_train = pd.read_csv(\"dataset_komentar_instagram_cyberbullying.csv\")\n",
    "df_train.rename(columns={\"Instagram Comment Text\":\"Teks\"}, inplace=True)\n",
    "df_train.drop(columns=[\"Id\"], inplace=True)\n",
    "df_train.head()"
   ]
  },
  {
   "cell_type": "markdown",
   "id": "e2ce5ccf",
   "metadata": {},
   "source": [
    "## Data Preparation"
   ]
  },
  {
   "cell_type": "markdown",
   "id": "b2fd4a3a",
   "metadata": {},
   "source": [
    "#### Text Preprocessing"
   ]
  },
  {
   "cell_type": "markdown",
   "id": "17120607",
   "metadata": {},
   "source": [
    "Define text preprocessing functions:\n",
    "- Case folding, used to convert text to lowercase and remove numbers, special characters, and punctuation.\n",
    "- Slang cleaner, used to standardize slang words and remove inappropriate words (harsh, dirty, etc.).\n",
    "- Stopword cleaner, used to remove common words."
   ]
  },
  {
   "cell_type": "code",
   "execution_count": 2,
   "id": "e96cd69d",
   "metadata": {},
   "outputs": [],
   "source": [
    "def case_folding(data):\n",
    "    data = data.lower()\n",
    "    data = ' '.join(re.sub(\"(@[A-Za-z0-9]+)|([^0-9A-Za-z \\t])|(\\w+:\\/\\/\\S+)\", \" \", data).split())\n",
    "    data = re.sub(r\"\\d+\", \"\", data)\n",
    "    data = data.translate(str.maketrans(\"\", \"\", string.punctuation))\n",
    "    data = re.sub(r\"\\n\", \"\", data)\n",
    "    data = re.sub(r\"\\t\", \"\", data)\n",
    "    return data\n",
    "\n",
    "def slang_cleaner(data, slang_list):\n",
    "    word_token = word_tokenize(data)\n",
    "    slang_list.fillna(\"\", inplace=True)\n",
    "    slang_list = list(slang_list.itertuples(index=False, name=None))\n",
    "    word_list = []\n",
    "    for word in word_token:\n",
    "        for slang in slang_list:\n",
    "            if word in slang[0].lower():\n",
    "                word = slang[1]\n",
    "                break\n",
    "        word_list.append(word)\n",
    "    data = \" \".join(word_list)\n",
    "    return data\n",
    "\n",
    "def stopword_cleaner(data, exclude):\n",
    "    word_token = word_tokenize(data)\n",
    "    sw_indo = stopwords.words(\"indonesian\")\n",
    "    sw_indo = [word for word in sw_indo if word not in exclude]\n",
    "    data  = [word for word in word_token if word not in sw_indo]\n",
    "    data = ' '.join(data)\n",
    "    return data"
   ]
  },
  {
   "cell_type": "markdown",
   "id": "c9f8626c",
   "metadata": {},
   "source": [
    "Load slang words and create list of words to be excluded, so the sentiment analysis result could be reliable."
   ]
  },
  {
   "cell_type": "code",
   "execution_count": 3,
   "id": "f6fb9a18",
   "metadata": {},
   "outputs": [],
   "source": [
    "slang_list = pd.read_csv(\"Kata_Slang_Indo_220129.csv\", header=None)\n",
    "\n",
    "exclude = [\"anti\", \"bagus\", \"belum\", \"benar\", \"betul\", \"bukan\", \"jangan\", \"jelek\", \"mudah\", \"salah\", \"sesuai\", \"setuju\",\n",
    "           \"sudah\", \"sulit\", \"susah\", \"tidak\"]"
   ]
  },
  {
   "cell_type": "markdown",
   "id": "3ebbf781",
   "metadata": {},
   "source": [
    "Now we preprocess our data set."
   ]
  },
  {
   "cell_type": "code",
   "execution_count": 11,
   "id": "f832e5b5",
   "metadata": {},
   "outputs": [
    {
     "data": {
      "text/html": [
       "<div>\n",
       "<style scoped>\n",
       "    .dataframe tbody tr th:only-of-type {\n",
       "        vertical-align: middle;\n",
       "    }\n",
       "\n",
       "    .dataframe tbody tr th {\n",
       "        vertical-align: top;\n",
       "    }\n",
       "\n",
       "    .dataframe thead th {\n",
       "        text-align: right;\n",
       "    }\n",
       "</style>\n",
       "<table border=\"1\" class=\"dataframe\">\n",
       "  <thead>\n",
       "    <tr style=\"text-align: right;\">\n",
       "      <th></th>\n",
       "      <th>Created At</th>\n",
       "      <th>Tweet</th>\n",
       "      <th>Tweet_bersih</th>\n",
       "    </tr>\n",
       "  </thead>\n",
       "  <tbody>\n",
       "    <tr>\n",
       "      <th>0</th>\n",
       "      <td>2022-01-26 23:56:45+00:00</td>\n",
       "      <td>Gak kredibel tapi jadi menteri. \\nMakin memper...</td>\n",
       "      <td>tidak kredibel menteri memperburuk citra pemer...</td>\n",
       "    </tr>\n",
       "    <tr>\n",
       "      <th>1</th>\n",
       "      <td>2022-01-26 23:30:27+00:00</td>\n",
       "      <td>@democrazymedia Woi,  ibu kota itu salah 1 bag...</td>\n",
       "      <td>kota salah negara tidak diumbar pembangunannya...</td>\n",
       "    </tr>\n",
       "    <tr>\n",
       "      <th>2</th>\n",
       "      <td>2022-01-26 22:47:31+00:00</td>\n",
       "      <td>Kantor Staf Presiden (KSP) memastikan skema pe...</td>\n",
       "      <td>kantor staf presiden ksp skema pembiayaan pemb...</td>\n",
       "    </tr>\n",
       "    <tr>\n",
       "      <th>3</th>\n",
       "      <td>2022-01-26 22:01:40+00:00</td>\n",
       "      <td>Pembangunan ibu kota negara (IKN0 membawa manf...</td>\n",
       "      <td>pembangunan kota negara ikn membawa manfaat pe...</td>\n",
       "    </tr>\n",
       "    <tr>\n",
       "      <th>4</th>\n",
       "      <td>2022-01-26 22:01:39+00:00</td>\n",
       "      <td>Pembangunan ibu kota negara (IKN0 membawa manf...</td>\n",
       "      <td>pembangunan kota negara ikn membawa manfaat pe...</td>\n",
       "    </tr>\n",
       "    <tr>\n",
       "      <th>...</th>\n",
       "      <td>...</td>\n",
       "      <td>...</td>\n",
       "      <td>...</td>\n",
       "    </tr>\n",
       "    <tr>\n",
       "      <th>295</th>\n",
       "      <td>2022-01-23 03:28:46+00:00</td>\n",
       "      <td>Ibu Kota Negara Pindah ke Kaltim, Anies Yakin ...</td>\n",
       "      <td>kota negara pindah kaltim anies jakarta pusat ...</td>\n",
       "    </tr>\n",
       "    <tr>\n",
       "      <th>296</th>\n",
       "      <td>2022-01-23 03:22:56+00:00</td>\n",
       "      <td>5 Negara Ini Dinilai Gagal Memindahkan Ibu Kot...</td>\n",
       "      <td>negara dinilai gagal memindahkan kota pegawain...</td>\n",
       "    </tr>\n",
       "    <tr>\n",
       "      <th>297</th>\n",
       "      <td>2022-01-23 03:00:08+00:00</td>\n",
       "      <td>UU Ibu Kota Negara Bisa Dibatalkan MK, Ini Ala...</td>\n",
       "      <td>uu kota negara dibatalkan mk alasannya</td>\n",
       "    </tr>\n",
       "    <tr>\n",
       "      <th>298</th>\n",
       "      <td>2022-01-23 02:56:05+00:00</td>\n",
       "      <td>Disahkan DPR, Faisal Basri akan Gugat UU Ibu K...</td>\n",
       "      <td>disahkan dpr faisal basri gugat uu kota negara mk</td>\n",
       "    </tr>\n",
       "    <tr>\n",
       "      <th>299</th>\n",
       "      <td>2022-01-23 02:49:09+00:00</td>\n",
       "      <td>Kawan Kabinet, seperti telah diketahui, pemeri...</td>\n",
       "      <td>kawan kabinet pemerintah memutuskan nusantara ...</td>\n",
       "    </tr>\n",
       "  </tbody>\n",
       "</table>\n",
       "<p>300 rows × 3 columns</p>\n",
       "</div>"
      ],
      "text/plain": [
       "                   Created At  \\\n",
       "0   2022-01-26 23:56:45+00:00   \n",
       "1   2022-01-26 23:30:27+00:00   \n",
       "2   2022-01-26 22:47:31+00:00   \n",
       "3   2022-01-26 22:01:40+00:00   \n",
       "4   2022-01-26 22:01:39+00:00   \n",
       "..                        ...   \n",
       "295 2022-01-23 03:28:46+00:00   \n",
       "296 2022-01-23 03:22:56+00:00   \n",
       "297 2022-01-23 03:00:08+00:00   \n",
       "298 2022-01-23 02:56:05+00:00   \n",
       "299 2022-01-23 02:49:09+00:00   \n",
       "\n",
       "                                                 Tweet  \\\n",
       "0    Gak kredibel tapi jadi menteri. \\nMakin memper...   \n",
       "1    @democrazymedia Woi,  ibu kota itu salah 1 bag...   \n",
       "2    Kantor Staf Presiden (KSP) memastikan skema pe...   \n",
       "3    Pembangunan ibu kota negara (IKN0 membawa manf...   \n",
       "4    Pembangunan ibu kota negara (IKN0 membawa manf...   \n",
       "..                                                 ...   \n",
       "295  Ibu Kota Negara Pindah ke Kaltim, Anies Yakin ...   \n",
       "296  5 Negara Ini Dinilai Gagal Memindahkan Ibu Kot...   \n",
       "297  UU Ibu Kota Negara Bisa Dibatalkan MK, Ini Ala...   \n",
       "298  Disahkan DPR, Faisal Basri akan Gugat UU Ibu K...   \n",
       "299  Kawan Kabinet, seperti telah diketahui, pemeri...   \n",
       "\n",
       "                                          Tweet_bersih  \n",
       "0    tidak kredibel menteri memperburuk citra pemer...  \n",
       "1    kota salah negara tidak diumbar pembangunannya...  \n",
       "2    kantor staf presiden ksp skema pembiayaan pemb...  \n",
       "3    pembangunan kota negara ikn membawa manfaat pe...  \n",
       "4    pembangunan kota negara ikn membawa manfaat pe...  \n",
       "..                                                 ...  \n",
       "295  kota negara pindah kaltim anies jakarta pusat ...  \n",
       "296  negara dinilai gagal memindahkan kota pegawain...  \n",
       "297             uu kota negara dibatalkan mk alasannya  \n",
       "298  disahkan dpr faisal basri gugat uu kota negara mk  \n",
       "299  kawan kabinet pemerintah memutuskan nusantara ...  \n",
       "\n",
       "[300 rows x 3 columns]"
      ]
     },
     "execution_count": 11,
     "metadata": {},
     "output_type": "execute_result"
    }
   ],
   "source": [
    "df[\"Tweet_bersih\"] = \"\"\n",
    "df[\"Tweet_bersih\"] = df[\"Tweet\"].apply(lambda item: case_folding(item))\n",
    "df[\"Tweet_bersih\"] = df[\"Tweet_bersih\"].apply(lambda item: slang_cleaner(item, slang_list))\n",
    "df[\"Tweet_bersih\"] = df[\"Tweet_bersih\"].apply(lambda item: stopword_cleaner(item, exclude))\n",
    "df"
   ]
  },
  {
   "cell_type": "markdown",
   "id": "da316c12",
   "metadata": {},
   "source": [
    "Plot the most frequent words in the data set to check whether the unuseful words still exist."
   ]
  },
  {
   "cell_type": "code",
   "execution_count": 12,
   "id": "bb99dccf",
   "metadata": {},
   "outputs": [
    {
     "data": {
      "image/png": "[encoded data removed]",
      "text/plain": [
       "<Figure size 432x288 with 1 Axes>"
      ]
     },
     "metadata": {
      "needs_background": "light"
     },
     "output_type": "display_data"
    }
   ],
   "source": [
    "df_plot = df.copy()\n",
    "df_plot[\"Tweet_bersih\"] = df_plot[\"Tweet_bersih\"].apply(lambda item: word_tokenize(str(item)))\n",
    "text = [word for tweet in df_plot[\"Tweet_bersih\"] for word in tweet]\n",
    "\n",
    "fqdist = FreqDist(text)\n",
    "most_common_word = fqdist.most_common(20)\n",
    "fqdist.plot(20, cumulative=False);   # show 20 most frequent words"
   ]
  },
  {
   "cell_type": "markdown",
   "id": "b9d50d7e",
   "metadata": {},
   "source": [
    "Do not forget to preprocess our training data set too."
   ]
  },
  {
   "cell_type": "code",
   "execution_count": 6,
   "id": "1d0239e7",
   "metadata": {},
   "outputs": [
    {
     "data": {
      "image/png": "[encoded data removed]",
      "text/plain": [
       "<Figure size 432x288 with 1 Axes>"
      ]
     },
     "metadata": {
      "needs_background": "light"
     },
     "output_type": "display_data"
    }
   ],
   "source": [
    "df_train[\"Teks_bersih\"] = \"\"\n",
    "df_train[\"Teks_bersih\"] = df_train[\"Teks\"].apply(lambda item: case_folding(item))\n",
    "df_train[\"Teks_bersih\"] = df_train[\"Teks_bersih\"].apply(lambda item: slang_cleaner(item, slang_list))\n",
    "df_train[\"Teks_bersih\"] = df_train[\"Teks_bersih\"].apply(lambda item: stopword_cleaner(item, exclude))\n",
    "\n",
    "df_train_plot = df_train.copy()\n",
    "df_train_plot[\"Teks_bersih\"] = df_train_plot[\"Teks_bersih\"].apply(lambda item: word_tokenize(str(item)))\n",
    "text_train = [word for tweet in df_train_plot[\"Teks_bersih\"] for word in tweet]\n",
    "\n",
    "fqdist_train = FreqDist(text_train)\n",
    "most_common_word_train = fqdist_train.most_common(20)\n",
    "fqdist_train.plot(20, cumulative=False);"
   ]
  },
  {
   "cell_type": "markdown",
   "id": "4bad86ab",
   "metadata": {},
   "source": [
    "Based on the plot result, the most frequent words in both data set is unique/uncommon words, hence the data set is ready to be modelled."
   ]
  },
  {
   "cell_type": "markdown",
   "id": "48faea92",
   "metadata": {},
   "source": [
    "Export our data to CSV file for backup."
   ]
  },
  {
   "cell_type": "code",
   "execution_count": 13,
   "id": "2ae0fb45",
   "metadata": {},
   "outputs": [],
   "source": [
    "df.to_csv(\"IKN_Tweet.csv\", index=False)"
   ]
  },
  {
   "cell_type": "markdown",
   "id": "9ed1cb21",
   "metadata": {},
   "source": [
    "## Data Processing"
   ]
  },
  {
   "cell_type": "markdown",
   "id": "c60eeb6a",
   "metadata": {},
   "source": [
    "We are going to do 3 data analysis: Text analysis, Topic analysis and Sentiment analysis."
   ]
  },
  {
   "cell_type": "markdown",
   "id": "951a2956",
   "metadata": {},
   "source": [
    "### Text Analysis"
   ]
  },
  {
   "cell_type": "markdown",
   "id": "6ab74384",
   "metadata": {},
   "source": [
    "Analyzing tweets by plotting text data based on:\n",
    "1. Total character frequency distribution in each tweet"
   ]
  },
  {
   "cell_type": "code",
   "execution_count": 14,
   "id": "87ab3ef7",
   "metadata": {},
   "outputs": [
    {
     "data": {
      "image/png": "[encoded data removed]",
      "text/plain": [
       "<Figure size 432x288 with 1 Axes>"
      ]
     },
     "metadata": {
      "needs_background": "light"
     },
     "output_type": "display_data"
    }
   ],
   "source": [
    "bin_range = np.arange(0, 260, 10)\n",
    "df[\"Tweet_bersih\"].str.len().hist(bins=bin_range);"
   ]
  },
  {
   "cell_type": "markdown",
   "id": "0833a813",
   "metadata": {},
   "source": [
    "2. Total word frequency distribution in each tweet"
   ]
  },
  {
   "cell_type": "code",
   "execution_count": 15,
   "id": "c6789c31",
   "metadata": {},
   "outputs": [
    {
     "data": {
      "image/png": "[encoded data removed]",
      "text/plain": [
       "<Figure size 432x288 with 1 Axes>"
      ]
     },
     "metadata": {
      "needs_background": "light"
     },
     "output_type": "display_data"
    }
   ],
   "source": [
    "bin_range = np.arange(0, 50)\n",
    "df[\"Tweet_bersih\"].str.split().map(lambda sentence: len(sentence)).hist(bins=bin_range);"
   ]
  },
  {
   "cell_type": "markdown",
   "id": "0b3a3099",
   "metadata": {},
   "source": [
    "3. Length of word frequency distribution in each tweet"
   ]
  },
  {
   "cell_type": "code",
   "execution_count": 16,
   "id": "a3dc0d00",
   "metadata": {},
   "outputs": [
    {
     "data": {
      "image/png": "[encoded data removed]",
      "text/plain": [
       "<Figure size 432x288 with 1 Axes>"
      ]
     },
     "metadata": {
      "needs_background": "light"
     },
     "output_type": "display_data"
    }
   ],
   "source": [
    "df[\"Tweet_bersih\"].str.split().apply(\n",
    "    lambda sentence: [len(word) for word in sentence]).map(lambda x: np.mean(x)).hist();"
   ]
  },
  {
   "cell_type": "markdown",
   "id": "971aac56",
   "metadata": {},
   "source": [
    "### Topic Analysis"
   ]
  },
  {
   "cell_type": "markdown",
   "id": "fc47fab3",
   "metadata": {},
   "source": [
    "Analyzing the most suitable topics for our data. Topic analysis is done using Latent Dirichlet Allocation (LDA) method. LDA method assumed there is coherency between our data and particular topics."
   ]
  },
  {
   "cell_type": "code",
   "execution_count": 3,
   "id": "01138044",
   "metadata": {},
   "outputs": [],
   "source": [
    "data_tweet = [tweet.split() for tweet in df[\"Tweet_bersih\"]]\n",
    "dictionary = corpora.Dictionary(data_tweet)\n",
    "doc_term_matrix = [dictionary.doc2bow(doc) for doc in data_tweet]"
   ]
  },
  {
   "cell_type": "markdown",
   "id": "d1a789c5",
   "metadata": {},
   "source": [
    "Building early model."
   ]
  },
  {
   "cell_type": "code",
   "execution_count": 4,
   "id": "e3b60d03",
   "metadata": {},
   "outputs": [],
   "source": [
    "k = 5   # we randomly limit to 5 topics\n",
    "model_LDA = LdaModel(random_state=100,\n",
    "                     chunksize=100,\n",
    "                     per_word_topics=True,\n",
    "                     corpus=doc_term_matrix,\n",
    "                     num_topics=k,\n",
    "                     id2word = dictionary,\n",
    "                     passes=50)"
   ]
  },
  {
   "cell_type": "code",
   "execution_count": 5,
   "id": "f0159ac7",
   "metadata": {},
   "outputs": [
    {
     "name": "stdout",
     "output_type": "stream",
     "text": [
      "[(0,\n",
      "  '0.077*\"negara\" + 0.075*\"kota\" + 0.024*\"pindah\" + 0.023*\"kalimantan\" + '\n",
      "  '0.021*\"nusantara\" + 0.020*\"indonesia\" + 0.017*\"nama\" + 0.015*\"uu\" + '\n",
      "  '0.015*\"ikn\" + 0.013*\"timur\"'),\n",
      " (1,\n",
      "  '0.078*\"negara\" + 0.077*\"kota\" + 0.039*\"ikn\" + 0.037*\"jakarta\" + '\n",
      "  '0.030*\"pembangunan\" + 0.020*\"kalimantan\" + 0.019*\"tol\" + 0.014*\"salah\" + '\n",
      "  '0.014*\"indonesia\" + 0.014*\"nusantara\"'),\n",
      " (2,\n",
      "  '0.056*\"kota\" + 0.048*\"negara\" + 0.019*\"edy\" + 0.019*\"mulyadi\" + '\n",
      "  '0.018*\"nusantara\" + 0.017*\"otorita\" + 0.016*\"pemindahan\" + 0.014*\"gt\" + '\n",
      "  '0.014*\"ikn\" + 0.012*\"kamil\"'),\n",
      " (3,\n",
      "  '0.034*\"kota\" + 0.033*\"negara\" + 0.025*\"tidak\" + 0.018*\"kepala\" + '\n",
      "  '0.015*\"jokowi\" + 0.014*\"sudah\" + 0.014*\"presiden\" + 0.014*\"pemindahan\" + '\n",
      "  '0.012*\"calon\" + 0.012*\"jangan\"'),\n",
      " (4,\n",
      "  '0.043*\"negara\" + 0.039*\"kota\" + 0.020*\"tidak\" + 0.016*\"undang\" + '\n",
      "  '0.013*\"dpr\" + 0.011*\"nusantara\" + 0.011*\"terima\" + 0.010*\"jakarta\" + '\n",
      "  '0.010*\"kasih\" + 0.009*\"anggota\"')]\n"
     ]
    }
   ],
   "source": [
    "pprint(model_LDA.print_topics())"
   ]
  },
  {
   "cell_type": "markdown",
   "id": "a221f434",
   "metadata": {},
   "source": [
    "Now we calculate the Coherence value. Coherence value/score represents coherency of each word to particular topics."
   ]
  },
  {
   "cell_type": "code",
   "execution_count": 6,
   "id": "50fe2649",
   "metadata": {},
   "outputs": [
    {
     "name": "stdout",
     "output_type": "stream",
     "text": [
      "\n",
      "Skor Coherence:  0.4311829363183409\n"
     ]
    }
   ],
   "source": [
    "coherence_model_LDA = CoherenceModel(model=model_LDA,\n",
    "                                     texts=data_tweet,\n",
    "                                     dictionary=dictionary,\n",
    "                                     coherence=\"c_v\")\n",
    "\n",
    "coherence_LDA = coherence_model_LDA.get_coherence()\n",
    "print(\"Skor Coherence: \", coherence_LDA)"
   ]
  },
  {
   "cell_type": "markdown",
   "id": "48c75214",
   "metadata": {},
   "source": [
    "This score can still be optimized, hence we will do Hyperparameter Tuning. Let's define a function to automatically building model and calculate coherence value."
   ]
  },
  {
   "cell_type": "code",
   "execution_count": 7,
   "id": "c3903e64",
   "metadata": {},
   "outputs": [],
   "source": [
    "def compute_coherence_values(corpus, dictionary, k, a, b, data):\n",
    "    model_LDA = LdaMulticore(corpus=doc_term_matrix,\n",
    "                             id2word=dictionary,\n",
    "                             num_topics=k, \n",
    "                             random_state=100,\n",
    "                             chunksize=100,\n",
    "                             passes=10,\n",
    "                             alpha=a,\n",
    "                             eta=b)\n",
    "    \n",
    "    coherence_model_LDA = CoherenceModel(model=model_LDA,\n",
    "                                         texts=data,\n",
    "                                         dictionary=dictionary,\n",
    "                                         coherence=\"c_v\")\n",
    "    return coherence_model_LDA.get_coherence()"
   ]
  },
  {
   "cell_type": "markdown",
   "id": "4e122917",
   "metadata": {},
   "source": [
    "Define the parameters and its values to find the optimal value."
   ]
  },
  {
   "cell_type": "code",
   "execution_count": 12,
   "id": "7c6cbebd",
   "metadata": {},
   "outputs": [],
   "source": [
    "# Topic (k)\n",
    "min_topics = 2\n",
    "max_topics = 11\n",
    "step_size = 1\n",
    "topics_range = range(min_topics, max_topics, step_size)\n",
    "\n",
    "# Alpha (a)\n",
    "alpha = list(np.arange(0.01, 1, 0.3))\n",
    "alpha.append(\"symmetric\")\n",
    "alpha.append(\"asymmetric\")\n",
    "\n",
    "# Beta (b)\n",
    "beta = list(np.arange(0.01, 1, 0.3))\n",
    "beta.append(\"symmetric\")\n",
    "\n",
    "# Validation sets\n",
    "num_of_docs = len(doc_term_matrix)\n",
    "corpus_sets = [ClippedCorpus(doc_term_matrix, num_of_docs*0.75), doc_term_matrix]\n",
    "corpus_title = [\"75% Corpus\", \"100% Corpus\"]\n",
    "\n",
    "model_results = {\"Validation_Set\": [],\n",
    "                 \"Topics\": [],\n",
    "                 \"Alpha\": [],\n",
    "                 \"Beta\": [],\n",
    "                 \"Coherence\": []}"
   ]
  },
  {
   "cell_type": "markdown",
   "id": "172b846b",
   "metadata": {},
   "source": [
    "Now let's start the hyperparameter tuning. Tqdm module is used to track processing progress."
   ]
  },
  {
   "cell_type": "code",
   "execution_count": 14,
   "id": "d7b84de0",
   "metadata": {},
   "outputs": [
    {
     "name": "stderr",
     "output_type": "stream",
     "text": [
      "100%|██████████████████████████████████████████████████████████████████████████████| 540/540 [2:33:23<00:00, 17.04s/it]\n"
     ]
    }
   ],
   "source": [
    "if 1 == 1:\n",
    "    pbar = tqdm.tqdm(total=540)\n",
    "    \n",
    "    for i in range(len(corpus_sets)):\n",
    "        for k in topics_range:\n",
    "            for a in alpha:\n",
    "                for b in beta:\n",
    "                    cv = compute_coherence_values(corpus=corpus_sets[i],\n",
    "                                                  dictionary=dictionary, \n",
    "                                                  k=k,\n",
    "                                                  a=a,\n",
    "                                                  b=b,\n",
    "                                                  data=data_tweet)\n",
    "                    \n",
    "                    model_results[\"Validation_Set\"].append(corpus_title[i])\n",
    "                    model_results[\"Topics\"].append(k)\n",
    "                    model_results[\"Alpha\"].append(a)\n",
    "                    model_results[\"Beta\"].append(b)\n",
    "                    model_results[\"Coherence\"].append(cv)\n",
    "                    \n",
    "                    pbar.update(1)\n",
    "\n",
    "    pd.DataFrame(model_results).to_csv(\"Hasil_Tuning_LDA.csv\", index=False)\n",
    "    pbar.close()"
   ]
  },
  {
   "cell_type": "code",
   "execution_count": 15,
   "id": "4c88984b",
   "metadata": {},
   "outputs": [
    {
     "data": {
      "text/html": [
       "<div>\n",
       "<style scoped>\n",
       "    .dataframe tbody tr th:only-of-type {\n",
       "        vertical-align: middle;\n",
       "    }\n",
       "\n",
       "    .dataframe tbody tr th {\n",
       "        vertical-align: top;\n",
       "    }\n",
       "\n",
       "    .dataframe thead th {\n",
       "        text-align: right;\n",
       "    }\n",
       "</style>\n",
       "<table border=\"1\" class=\"dataframe\">\n",
       "  <thead>\n",
       "    <tr style=\"text-align: right;\">\n",
       "      <th></th>\n",
       "      <th>Validation_Set</th>\n",
       "      <th>Topics</th>\n",
       "      <th>Alpha</th>\n",
       "      <th>Beta</th>\n",
       "      <th>Coherence</th>\n",
       "    </tr>\n",
       "  </thead>\n",
       "  <tbody>\n",
       "    <tr>\n",
       "      <th>0</th>\n",
       "      <td>75% Corpus</td>\n",
       "      <td>2</td>\n",
       "      <td>0.01</td>\n",
       "      <td>0.01</td>\n",
       "      <td>0.389970</td>\n",
       "    </tr>\n",
       "    <tr>\n",
       "      <th>1</th>\n",
       "      <td>75% Corpus</td>\n",
       "      <td>2</td>\n",
       "      <td>0.01</td>\n",
       "      <td>0.31</td>\n",
       "      <td>0.404843</td>\n",
       "    </tr>\n",
       "    <tr>\n",
       "      <th>2</th>\n",
       "      <td>75% Corpus</td>\n",
       "      <td>2</td>\n",
       "      <td>0.01</td>\n",
       "      <td>0.61</td>\n",
       "      <td>0.404843</td>\n",
       "    </tr>\n",
       "    <tr>\n",
       "      <th>3</th>\n",
       "      <td>75% Corpus</td>\n",
       "      <td>2</td>\n",
       "      <td>0.01</td>\n",
       "      <td>0.9099999999999999</td>\n",
       "      <td>0.404843</td>\n",
       "    </tr>\n",
       "    <tr>\n",
       "      <th>4</th>\n",
       "      <td>75% Corpus</td>\n",
       "      <td>2</td>\n",
       "      <td>0.01</td>\n",
       "      <td>symmetric</td>\n",
       "      <td>0.404843</td>\n",
       "    </tr>\n",
       "  </tbody>\n",
       "</table>\n",
       "</div>"
      ],
      "text/plain": [
       "  Validation_Set  Topics Alpha                Beta  Coherence\n",
       "0     75% Corpus       2  0.01                0.01   0.389970\n",
       "1     75% Corpus       2  0.01                0.31   0.404843\n",
       "2     75% Corpus       2  0.01                0.61   0.404843\n",
       "3     75% Corpus       2  0.01  0.9099999999999999   0.404843\n",
       "4     75% Corpus       2  0.01           symmetric   0.404843"
      ]
     },
     "execution_count": 15,
     "metadata": {},
     "output_type": "execute_result"
    }
   ],
   "source": [
    "df_tuning = pd.read_csv(\"Hasil_Tuning_LDA.csv\")\n",
    "df_tuning.head()"
   ]
  },
  {
   "cell_type": "markdown",
   "id": "854d3a62",
   "metadata": {},
   "source": [
    "Next, we plot the coherence values to determine the optimal number of topics."
   ]
  },
  {
   "cell_type": "code",
   "execution_count": 16,
   "id": "0aa52533",
   "metadata": {},
   "outputs": [
    {
     "data": {
      "image/png": "[encoded data removed]",
      "text/plain": [
       "<Figure size 432x288 with 1 Axes>"
      ]
     },
     "metadata": {
      "needs_background": "light"
     },
     "output_type": "display_data"
    }
   ],
   "source": [
    "df_cv = df_tuning[(df_tuning.Alpha == \"0.01\") & (df_tuning.Beta == \"0.31\") & (df_tuning.Validation_Set == \"100% Corpus\")].copy()\n",
    "df_cv.plot(x=\"Topics\", y=\"Coherence\", kind=\"line\");"
   ]
  },
  {
   "cell_type": "markdown",
   "id": "a5ac7b79",
   "metadata": {},
   "source": [
    "The highest coherence value indicates the optimal number of topics, so in this case we got 5 topics. Now we will use this k value to get optimal alpha and beta value."
   ]
  },
  {
   "cell_type": "code",
   "execution_count": 17,
   "id": "8771d129",
   "metadata": {},
   "outputs": [
    {
     "data": {
      "text/html": [
       "<div>\n",
       "<style scoped>\n",
       "    .dataframe tbody tr th:only-of-type {\n",
       "        vertical-align: middle;\n",
       "    }\n",
       "\n",
       "    .dataframe tbody tr th {\n",
       "        vertical-align: top;\n",
       "    }\n",
       "\n",
       "    .dataframe thead th {\n",
       "        text-align: right;\n",
       "    }\n",
       "</style>\n",
       "<table border=\"1\" class=\"dataframe\">\n",
       "  <thead>\n",
       "    <tr style=\"text-align: right;\">\n",
       "      <th></th>\n",
       "      <th>Validation_Set</th>\n",
       "      <th>Topics</th>\n",
       "      <th>Alpha</th>\n",
       "      <th>Beta</th>\n",
       "      <th>Coherence</th>\n",
       "    </tr>\n",
       "  </thead>\n",
       "  <tbody>\n",
       "    <tr>\n",
       "      <th>361</th>\n",
       "      <td>100% Corpus</td>\n",
       "      <td>5</td>\n",
       "      <td>0.01</td>\n",
       "      <td>0.31</td>\n",
       "      <td>0.439837</td>\n",
       "    </tr>\n",
       "    <tr>\n",
       "      <th>362</th>\n",
       "      <td>100% Corpus</td>\n",
       "      <td>5</td>\n",
       "      <td>0.01</td>\n",
       "      <td>0.61</td>\n",
       "      <td>0.434188</td>\n",
       "    </tr>\n",
       "    <tr>\n",
       "      <th>364</th>\n",
       "      <td>100% Corpus</td>\n",
       "      <td>5</td>\n",
       "      <td>0.01</td>\n",
       "      <td>symmetric</td>\n",
       "      <td>0.427824</td>\n",
       "    </tr>\n",
       "    <tr>\n",
       "      <th>368</th>\n",
       "      <td>100% Corpus</td>\n",
       "      <td>5</td>\n",
       "      <td>0.31</td>\n",
       "      <td>0.9099999999999999</td>\n",
       "      <td>0.415510</td>\n",
       "    </tr>\n",
       "    <tr>\n",
       "      <th>383</th>\n",
       "      <td>100% Corpus</td>\n",
       "      <td>5</td>\n",
       "      <td>symmetric</td>\n",
       "      <td>0.9099999999999999</td>\n",
       "      <td>0.414607</td>\n",
       "    </tr>\n",
       "    <tr>\n",
       "      <th>380</th>\n",
       "      <td>100% Corpus</td>\n",
       "      <td>5</td>\n",
       "      <td>symmetric</td>\n",
       "      <td>0.01</td>\n",
       "      <td>0.414321</td>\n",
       "    </tr>\n",
       "    <tr>\n",
       "      <th>363</th>\n",
       "      <td>100% Corpus</td>\n",
       "      <td>5</td>\n",
       "      <td>0.01</td>\n",
       "      <td>0.9099999999999999</td>\n",
       "      <td>0.413918</td>\n",
       "    </tr>\n",
       "    <tr>\n",
       "      <th>375</th>\n",
       "      <td>100% Corpus</td>\n",
       "      <td>5</td>\n",
       "      <td>0.9099999999999999</td>\n",
       "      <td>0.01</td>\n",
       "      <td>0.411986</td>\n",
       "    </tr>\n",
       "    <tr>\n",
       "      <th>382</th>\n",
       "      <td>100% Corpus</td>\n",
       "      <td>5</td>\n",
       "      <td>symmetric</td>\n",
       "      <td>0.61</td>\n",
       "      <td>0.411174</td>\n",
       "    </tr>\n",
       "    <tr>\n",
       "      <th>384</th>\n",
       "      <td>100% Corpus</td>\n",
       "      <td>5</td>\n",
       "      <td>symmetric</td>\n",
       "      <td>symmetric</td>\n",
       "      <td>0.409533</td>\n",
       "    </tr>\n",
       "    <tr>\n",
       "      <th>381</th>\n",
       "      <td>100% Corpus</td>\n",
       "      <td>5</td>\n",
       "      <td>symmetric</td>\n",
       "      <td>0.31</td>\n",
       "      <td>0.409072</td>\n",
       "    </tr>\n",
       "    <tr>\n",
       "      <th>389</th>\n",
       "      <td>100% Corpus</td>\n",
       "      <td>5</td>\n",
       "      <td>asymmetric</td>\n",
       "      <td>symmetric</td>\n",
       "      <td>0.405285</td>\n",
       "    </tr>\n",
       "    <tr>\n",
       "      <th>370</th>\n",
       "      <td>100% Corpus</td>\n",
       "      <td>5</td>\n",
       "      <td>0.61</td>\n",
       "      <td>0.01</td>\n",
       "      <td>0.404659</td>\n",
       "    </tr>\n",
       "    <tr>\n",
       "      <th>379</th>\n",
       "      <td>100% Corpus</td>\n",
       "      <td>5</td>\n",
       "      <td>0.9099999999999999</td>\n",
       "      <td>symmetric</td>\n",
       "      <td>0.402565</td>\n",
       "    </tr>\n",
       "    <tr>\n",
       "      <th>360</th>\n",
       "      <td>100% Corpus</td>\n",
       "      <td>5</td>\n",
       "      <td>0.01</td>\n",
       "      <td>0.01</td>\n",
       "      <td>0.400221</td>\n",
       "    </tr>\n",
       "    <tr>\n",
       "      <th>386</th>\n",
       "      <td>100% Corpus</td>\n",
       "      <td>5</td>\n",
       "      <td>asymmetric</td>\n",
       "      <td>0.31</td>\n",
       "      <td>0.396033</td>\n",
       "    </tr>\n",
       "    <tr>\n",
       "      <th>371</th>\n",
       "      <td>100% Corpus</td>\n",
       "      <td>5</td>\n",
       "      <td>0.61</td>\n",
       "      <td>0.31</td>\n",
       "      <td>0.394402</td>\n",
       "    </tr>\n",
       "    <tr>\n",
       "      <th>374</th>\n",
       "      <td>100% Corpus</td>\n",
       "      <td>5</td>\n",
       "      <td>0.61</td>\n",
       "      <td>symmetric</td>\n",
       "      <td>0.392387</td>\n",
       "    </tr>\n",
       "    <tr>\n",
       "      <th>367</th>\n",
       "      <td>100% Corpus</td>\n",
       "      <td>5</td>\n",
       "      <td>0.31</td>\n",
       "      <td>0.61</td>\n",
       "      <td>0.391931</td>\n",
       "    </tr>\n",
       "    <tr>\n",
       "      <th>377</th>\n",
       "      <td>100% Corpus</td>\n",
       "      <td>5</td>\n",
       "      <td>0.9099999999999999</td>\n",
       "      <td>0.61</td>\n",
       "      <td>0.387130</td>\n",
       "    </tr>\n",
       "    <tr>\n",
       "      <th>385</th>\n",
       "      <td>100% Corpus</td>\n",
       "      <td>5</td>\n",
       "      <td>asymmetric</td>\n",
       "      <td>0.01</td>\n",
       "      <td>0.387121</td>\n",
       "    </tr>\n",
       "    <tr>\n",
       "      <th>376</th>\n",
       "      <td>100% Corpus</td>\n",
       "      <td>5</td>\n",
       "      <td>0.9099999999999999</td>\n",
       "      <td>0.31</td>\n",
       "      <td>0.384852</td>\n",
       "    </tr>\n",
       "    <tr>\n",
       "      <th>366</th>\n",
       "      <td>100% Corpus</td>\n",
       "      <td>5</td>\n",
       "      <td>0.31</td>\n",
       "      <td>0.31</td>\n",
       "      <td>0.383143</td>\n",
       "    </tr>\n",
       "    <tr>\n",
       "      <th>373</th>\n",
       "      <td>100% Corpus</td>\n",
       "      <td>5</td>\n",
       "      <td>0.61</td>\n",
       "      <td>0.9099999999999999</td>\n",
       "      <td>0.379441</td>\n",
       "    </tr>\n",
       "    <tr>\n",
       "      <th>372</th>\n",
       "      <td>100% Corpus</td>\n",
       "      <td>5</td>\n",
       "      <td>0.61</td>\n",
       "      <td>0.61</td>\n",
       "      <td>0.379259</td>\n",
       "    </tr>\n",
       "    <tr>\n",
       "      <th>365</th>\n",
       "      <td>100% Corpus</td>\n",
       "      <td>5</td>\n",
       "      <td>0.31</td>\n",
       "      <td>0.01</td>\n",
       "      <td>0.378748</td>\n",
       "    </tr>\n",
       "    <tr>\n",
       "      <th>369</th>\n",
       "      <td>100% Corpus</td>\n",
       "      <td>5</td>\n",
       "      <td>0.31</td>\n",
       "      <td>symmetric</td>\n",
       "      <td>0.376954</td>\n",
       "    </tr>\n",
       "    <tr>\n",
       "      <th>378</th>\n",
       "      <td>100% Corpus</td>\n",
       "      <td>5</td>\n",
       "      <td>0.9099999999999999</td>\n",
       "      <td>0.9099999999999999</td>\n",
       "      <td>0.363197</td>\n",
       "    </tr>\n",
       "    <tr>\n",
       "      <th>388</th>\n",
       "      <td>100% Corpus</td>\n",
       "      <td>5</td>\n",
       "      <td>asymmetric</td>\n",
       "      <td>0.9099999999999999</td>\n",
       "      <td>0.353782</td>\n",
       "    </tr>\n",
       "    <tr>\n",
       "      <th>387</th>\n",
       "      <td>100% Corpus</td>\n",
       "      <td>5</td>\n",
       "      <td>asymmetric</td>\n",
       "      <td>0.61</td>\n",
       "      <td>0.327036</td>\n",
       "    </tr>\n",
       "  </tbody>\n",
       "</table>\n",
       "</div>"
      ],
      "text/plain": [
       "    Validation_Set  Topics               Alpha                Beta  Coherence\n",
       "361    100% Corpus       5                0.01                0.31   0.439837\n",
       "362    100% Corpus       5                0.01                0.61   0.434188\n",
       "364    100% Corpus       5                0.01           symmetric   0.427824\n",
       "368    100% Corpus       5                0.31  0.9099999999999999   0.415510\n",
       "383    100% Corpus       5           symmetric  0.9099999999999999   0.414607\n",
       "380    100% Corpus       5           symmetric                0.01   0.414321\n",
       "363    100% Corpus       5                0.01  0.9099999999999999   0.413918\n",
       "375    100% Corpus       5  0.9099999999999999                0.01   0.411986\n",
       "382    100% Corpus       5           symmetric                0.61   0.411174\n",
       "384    100% Corpus       5           symmetric           symmetric   0.409533\n",
       "381    100% Corpus       5           symmetric                0.31   0.409072\n",
       "389    100% Corpus       5          asymmetric           symmetric   0.405285\n",
       "370    100% Corpus       5                0.61                0.01   0.404659\n",
       "379    100% Corpus       5  0.9099999999999999           symmetric   0.402565\n",
       "360    100% Corpus       5                0.01                0.01   0.400221\n",
       "386    100% Corpus       5          asymmetric                0.31   0.396033\n",
       "371    100% Corpus       5                0.61                0.31   0.394402\n",
       "374    100% Corpus       5                0.61           symmetric   0.392387\n",
       "367    100% Corpus       5                0.31                0.61   0.391931\n",
       "377    100% Corpus       5  0.9099999999999999                0.61   0.387130\n",
       "385    100% Corpus       5          asymmetric                0.01   0.387121\n",
       "376    100% Corpus       5  0.9099999999999999                0.31   0.384852\n",
       "366    100% Corpus       5                0.31                0.31   0.383143\n",
       "373    100% Corpus       5                0.61  0.9099999999999999   0.379441\n",
       "372    100% Corpus       5                0.61                0.61   0.379259\n",
       "365    100% Corpus       5                0.31                0.01   0.378748\n",
       "369    100% Corpus       5                0.31           symmetric   0.376954\n",
       "378    100% Corpus       5  0.9099999999999999  0.9099999999999999   0.363197\n",
       "388    100% Corpus       5          asymmetric  0.9099999999999999   0.353782\n",
       "387    100% Corpus       5          asymmetric                0.61   0.327036"
      ]
     },
     "execution_count": 17,
     "metadata": {},
     "output_type": "execute_result"
    }
   ],
   "source": [
    "k = 5\n",
    "df_cv_2 = df_tuning[(df_tuning.Topics == k) & (df_tuning.Validation_Set == \"100% Corpus\")].copy()\n",
    "df_cv_2.sort_values(by=\"Coherence\", ascending=False)"
   ]
  },
  {
   "cell_type": "markdown",
   "id": "ef4b3b73",
   "metadata": {},
   "source": [
    "The highest coherence value indicates the optimal alpha and beta value, so in this case we got 0.01 and 0.31 for those parameters. Finally, input those optimized parameters to our model to predict the topics."
   ]
  },
  {
   "cell_type": "code",
   "execution_count": 25,
   "id": "96b3720d",
   "metadata": {},
   "outputs": [
    {
     "name": "stdout",
     "output_type": "stream",
     "text": [
      "[(0,\n",
      "  '0.064*\"kota\" + 0.053*\"negara\" + 0.024*\"nusantara\" + 0.013*\"kalimantan\" + '\n",
      "  '0.013*\"ikn\" + 0.012*\"pemindahan\" + 0.012*\"nama\" + 0.009*\"gt\" + '\n",
      "  '0.008*\"indonesia\" + 0.007*\"timur\"'),\n",
      " (1,\n",
      "  '0.061*\"negara\" + 0.054*\"kota\" + 0.030*\"ikn\" + 0.018*\"kalimantan\" + '\n",
      "  '0.016*\"pembangunan\" + 0.014*\"tol\" + 0.012*\"undang\" + 0.011*\"pindah\" + '\n",
      "  '0.011*\"jakarta\" + 0.010*\"nusantara\"'),\n",
      " (2,\n",
      "  '0.044*\"kota\" + 0.042*\"negara\" + 0.015*\"edy\" + 0.013*\"mulyadi\" + '\n",
      "  '0.009*\"jakarta\" + 0.009*\"daerah\" + 0.009*\"pemindahan\" + 0.007*\"indonesia\" + '\n",
      "  '0.007*\"khusus\" + 0.007*\"kalimantan\"'),\n",
      " (3,\n",
      "  '0.047*\"kota\" + 0.043*\"negara\" + 0.017*\"tidak\" + 0.014*\"ikn\" + '\n",
      "  '0.013*\"pemindahan\" + 0.012*\"jakarta\" + 0.009*\"indonesia\" + 0.009*\"uu\" + '\n",
      "  '0.007*\"wilayah\" + 0.007*\"pindah\"'),\n",
      " (4,\n",
      "  '0.048*\"negara\" + 0.042*\"kota\" + 0.017*\"nusantara\" + 0.017*\"tidak\" + '\n",
      "  '0.013*\"kalimantan\" + 0.013*\"nama\" + 0.012*\"ikn\" + 0.009*\"undang\" + '\n",
      "  '0.009*\"presiden\" + 0.009*\"kamil\"')]\n"
     ]
    }
   ],
   "source": [
    "a = 0.01\n",
    "b = 0.31\n",
    "model_LDA = LdaMulticore(corpus=doc_term_matrix,\n",
    "                         id2word=dictionary,\n",
    "                         num_topics=k,\n",
    "                         random_state=100,\n",
    "                         chunksize=100,\n",
    "                         passes=10,\n",
    "                         alpha=a,\n",
    "                         eta=b)\n",
    "\n",
    "pprint(model_LDA.print_topics())"
   ]
  },
  {
   "cell_type": "markdown",
   "id": "67b62ddc",
   "metadata": {},
   "source": [
    "### Sentiment Analysis"
   ]
  },
  {
   "cell_type": "markdown",
   "id": "f630e7ec",
   "metadata": {},
   "source": [
    "Before we begin the sentiment analysis, we must transform our text data into numerical data (vectorization) in order to the machine learning model able to process our data set. For this transformation, we are going to use Term Frequency-Inverse Document Frequency (TF-IDF) method."
   ]
  },
  {
   "cell_type": "code",
   "execution_count": 7,
   "id": "eaebbddd",
   "metadata": {},
   "outputs": [],
   "source": [
    "vectorizer = TfidfVectorizer(max_features=2500)"
   ]
  },
  {
   "cell_type": "markdown",
   "id": "c1ea67b1",
   "metadata": {},
   "source": [
    "Machine learning model that used in this case is (Gaussian) Navie Bayes."
   ]
  },
  {
   "cell_type": "code",
   "execution_count": 8,
   "id": "ef07ee21",
   "metadata": {},
   "outputs": [],
   "source": [
    "model_GNB = GaussianNB()"
   ]
  },
  {
   "cell_type": "markdown",
   "id": "5fec2589",
   "metadata": {},
   "source": [
    "Convert Sentiment feature value in our training data set, \"positive\" and \"negative\" into \"1\" and \"0\"."
   ]
  },
  {
   "cell_type": "code",
   "execution_count": 9,
   "id": "0df803d4",
   "metadata": {},
   "outputs": [
    {
     "data": {
      "text/html": [
       "<div>\n",
       "<style scoped>\n",
       "    .dataframe tbody tr th:only-of-type {\n",
       "        vertical-align: middle;\n",
       "    }\n",
       "\n",
       "    .dataframe tbody tr th {\n",
       "        vertical-align: top;\n",
       "    }\n",
       "\n",
       "    .dataframe thead th {\n",
       "        text-align: right;\n",
       "    }\n",
       "</style>\n",
       "<table border=\"1\" class=\"dataframe\">\n",
       "  <thead>\n",
       "    <tr style=\"text-align: right;\">\n",
       "      <th></th>\n",
       "      <th>Sentiment</th>\n",
       "      <th>Teks</th>\n",
       "      <th>Teks_bersih</th>\n",
       "    </tr>\n",
       "  </thead>\n",
       "  <tbody>\n",
       "    <tr>\n",
       "      <th>0</th>\n",
       "      <td>0</td>\n",
       "      <td>&lt;USERNAME&gt; TOLOL!! Gak ada hubungan nya kegug...</td>\n",
       "      <td>tolol tidak hubungan keguguran dipakai hijab s...</td>\n",
       "    </tr>\n",
       "    <tr>\n",
       "      <th>1</th>\n",
       "      <td>0</td>\n",
       "      <td>Geblek lo tata...cowo bgt dibela2in balikan......</td>\n",
       "      <td>bodoh tata cowo bgt dibela balikan hadeww ntar...</td>\n",
       "    </tr>\n",
       "    <tr>\n",
       "      <th>2</th>\n",
       "      <td>0</td>\n",
       "      <td>Kmrn termewek2 skr lengket lg duhhh kok labil ...</td>\n",
       "      <td>kemarin termewek lengket duhhh labil bgt terim...</td>\n",
       "    </tr>\n",
       "    <tr>\n",
       "      <th>3</th>\n",
       "      <td>0</td>\n",
       "      <td>Intinya kalau kesel dengan ATT nya, gausah ke ...</td>\n",
       "      <td>intinya kesal att tidak anaknya kasian perkemb...</td>\n",
       "    </tr>\n",
       "    <tr>\n",
       "      <th>4</th>\n",
       "      <td>0</td>\n",
       "      <td>hadewwwww permpuan itu lg!!!!sakit jiwa,knp ha...</td>\n",
       "      <td>hadewwwww permpuan sakit jiwa peran utama film...</td>\n",
       "    </tr>\n",
       "    <tr>\n",
       "      <th>...</th>\n",
       "      <td>...</td>\n",
       "      <td>...</td>\n",
       "      <td>...</td>\n",
       "    </tr>\n",
       "    <tr>\n",
       "      <th>395</th>\n",
       "      <td>1</td>\n",
       "      <td>Bangga sama suami yg selalu ingat istri disela...</td>\n",
       "      <td>bangga suami istri disela apapun profesimu kau...</td>\n",
       "    </tr>\n",
       "    <tr>\n",
       "      <th>396</th>\n",
       "      <td>1</td>\n",
       "      <td>Apaoun pekerjaannya yg penting halal u tuk men...</td>\n",
       "      <td>apapun pekerjaannya halal halus mengantuk mena...</td>\n",
       "    </tr>\n",
       "    <tr>\n",
       "      <th>397</th>\n",
       "      <td>1</td>\n",
       "      <td>Gojek itu mayoritas pegangguran yang lama gak ...</td>\n",
       "      <td>gojek mayoritas pegangguran tidak kerja putus ...</td>\n",
       "    </tr>\n",
       "    <tr>\n",
       "      <th>398</th>\n",
       "      <td>1</td>\n",
       "      <td>&lt;USERNAME&gt; aslinya cantik dan ayu loh mbak kr...</td>\n",
       "      <td>aslinya cantik ayu menembak sudah bertemu lang...</td>\n",
       "    </tr>\n",
       "    <tr>\n",
       "      <th>399</th>\n",
       "      <td>1</td>\n",
       "      <td>&lt;USERNAME&gt; suami saya seumuran sama saya mba,...</td>\n",
       "      <td>suami seumuran menembak tuan alhamdulillah sua...</td>\n",
       "    </tr>\n",
       "  </tbody>\n",
       "</table>\n",
       "<p>400 rows × 3 columns</p>\n",
       "</div>"
      ],
      "text/plain": [
       "     Sentiment                                               Teks  \\\n",
       "0            0   <USERNAME> TOLOL!! Gak ada hubungan nya kegug...   \n",
       "1            0  Geblek lo tata...cowo bgt dibela2in balikan......   \n",
       "2            0  Kmrn termewek2 skr lengket lg duhhh kok labil ...   \n",
       "3            0  Intinya kalau kesel dengan ATT nya, gausah ke ...   \n",
       "4            0  hadewwwww permpuan itu lg!!!!sakit jiwa,knp ha...   \n",
       "..         ...                                                ...   \n",
       "395          1  Bangga sama suami yg selalu ingat istri disela...   \n",
       "396          1  Apaoun pekerjaannya yg penting halal u tuk men...   \n",
       "397          1  Gojek itu mayoritas pegangguran yang lama gak ...   \n",
       "398          1   <USERNAME> aslinya cantik dan ayu loh mbak kr...   \n",
       "399          1   <USERNAME> suami saya seumuran sama saya mba,...   \n",
       "\n",
       "                                           Teks_bersih  \n",
       "0    tolol tidak hubungan keguguran dipakai hijab s...  \n",
       "1    bodoh tata cowo bgt dibela balikan hadeww ntar...  \n",
       "2    kemarin termewek lengket duhhh labil bgt terim...  \n",
       "3    intinya kesal att tidak anaknya kasian perkemb...  \n",
       "4    hadewwwww permpuan sakit jiwa peran utama film...  \n",
       "..                                                 ...  \n",
       "395  bangga suami istri disela apapun profesimu kau...  \n",
       "396  apapun pekerjaannya halal halus mengantuk mena...  \n",
       "397  gojek mayoritas pegangguran tidak kerja putus ...  \n",
       "398  aslinya cantik ayu menembak sudah bertemu lang...  \n",
       "399  suami seumuran menembak tuan alhamdulillah sua...  \n",
       "\n",
       "[400 rows x 3 columns]"
      ]
     },
     "execution_count": 9,
     "metadata": {},
     "output_type": "execute_result"
    }
   ],
   "source": [
    "df_train.replace({\"Sentiment\":{\"negative\":0, \"positive\":1}}, inplace=True)\n",
    "df_train"
   ]
  },
  {
   "cell_type": "markdown",
   "id": "3f3359db",
   "metadata": {},
   "source": [
    "Let's vectorize our training data set."
   ]
  },
  {
   "cell_type": "code",
   "execution_count": 10,
   "id": "b7fa1b92",
   "metadata": {},
   "outputs": [
    {
     "data": {
      "text/plain": [
       "<400x2500 sparse matrix of type '<class 'numpy.float64'>'\n",
       "\twith 5432 stored elements in Compressed Sparse Row format>"
      ]
     },
     "execution_count": 10,
     "metadata": {},
     "output_type": "execute_result"
    }
   ],
   "source": [
    "vector_data = vectorizer.fit_transform(df_train[\"Teks_bersih\"]).toarray()\n",
    "vectorizer.fit_transform(df_train[\"Teks_bersih\"])"
   ]
  },
  {
   "cell_type": "markdown",
   "id": "e4b1df1e",
   "metadata": {},
   "source": [
    "Now we split our training data set into train and test data, fit the model, then calculate:\n",
    "- Confusion matrix\n",
    "- Classification report\n",
    "- Accuracy score\n",
    "\n",
    "to see the model performance."
   ]
  },
  {
   "cell_type": "code",
   "execution_count": 11,
   "id": "02ff3fe2",
   "metadata": {},
   "outputs": [
    {
     "name": "stdout",
     "output_type": "stream",
     "text": [
      "[[35  5]\n",
      " [ 7 33]]\n",
      "              precision    recall  f1-score   support\n",
      "\n",
      "           0       0.83      0.88      0.85        40\n",
      "           1       0.87      0.82      0.85        40\n",
      "\n",
      "    accuracy                           0.85        80\n",
      "   macro avg       0.85      0.85      0.85        80\n",
      "weighted avg       0.85      0.85      0.85        80\n",
      "\n",
      "Skor akurasi:  0.85\n"
     ]
    }
   ],
   "source": [
    "X_train, X_test, y_train, y_test = train_test_split(vector_data,\n",
    "                                                    df_train[\"Sentiment\"],\n",
    "                                                    test_size=0.2,\n",
    "                                                    random_state=52)\n",
    "\n",
    "model_GNB.fit(X_train, y_train)\n",
    "y_preds = model_GNB.predict(X_test)\n",
    "\n",
    "print(confusion_matrix(y_test, y_preds))\n",
    "print(classification_report(y_test, y_preds))\n",
    "print(\"Skor akurasi: \", accuracy_score(y_test, y_preds))"
   ]
  },
  {
   "cell_type": "markdown",
   "id": "69368035",
   "metadata": {},
   "source": [
    "Those performance scores are good enough to verify that our model is can be used for prediction/classification. Now, let's predict."
   ]
  },
  {
   "cell_type": "code",
   "execution_count": 13,
   "id": "6fe690bd",
   "metadata": {},
   "outputs": [
    {
     "data": {
      "text/html": [
       "<div>\n",
       "<style scoped>\n",
       "    .dataframe tbody tr th:only-of-type {\n",
       "        vertical-align: middle;\n",
       "    }\n",
       "\n",
       "    .dataframe tbody tr th {\n",
       "        vertical-align: top;\n",
       "    }\n",
       "\n",
       "    .dataframe thead th {\n",
       "        text-align: right;\n",
       "    }\n",
       "</style>\n",
       "<table border=\"1\" class=\"dataframe\">\n",
       "  <thead>\n",
       "    <tr style=\"text-align: right;\">\n",
       "      <th></th>\n",
       "      <th>Created At</th>\n",
       "      <th>Tweet</th>\n",
       "      <th>Tweet_bersih</th>\n",
       "      <th>Sentimen</th>\n",
       "    </tr>\n",
       "  </thead>\n",
       "  <tbody>\n",
       "    <tr>\n",
       "      <th>0</th>\n",
       "      <td>2022-01-26 23:56:45+00:00</td>\n",
       "      <td>Gak kredibel tapi jadi menteri. \\nMakin memper...</td>\n",
       "      <td>tidak kredibel menteri memperburuk citra pemer...</td>\n",
       "      <td>1</td>\n",
       "    </tr>\n",
       "    <tr>\n",
       "      <th>1</th>\n",
       "      <td>2022-01-26 23:30:27+00:00</td>\n",
       "      <td>@democrazymedia Woi,  ibu kota itu salah 1 bag...</td>\n",
       "      <td>kota salah negara tidak diumbar pembangunannya...</td>\n",
       "      <td>1</td>\n",
       "    </tr>\n",
       "    <tr>\n",
       "      <th>2</th>\n",
       "      <td>2022-01-26 22:47:31+00:00</td>\n",
       "      <td>Kantor Staf Presiden (KSP) memastikan skema pe...</td>\n",
       "      <td>kantor staf presiden ksp skema pembiayaan pemb...</td>\n",
       "      <td>0</td>\n",
       "    </tr>\n",
       "    <tr>\n",
       "      <th>3</th>\n",
       "      <td>2022-01-26 22:01:40+00:00</td>\n",
       "      <td>Pembangunan ibu kota negara (IKN0 membawa manf...</td>\n",
       "      <td>pembangunan kota negara ikn membawa manfaat pe...</td>\n",
       "      <td>0</td>\n",
       "    </tr>\n",
       "    <tr>\n",
       "      <th>4</th>\n",
       "      <td>2022-01-26 22:01:39+00:00</td>\n",
       "      <td>Pembangunan ibu kota negara (IKN0 membawa manf...</td>\n",
       "      <td>pembangunan kota negara ikn membawa manfaat pe...</td>\n",
       "      <td>0</td>\n",
       "    </tr>\n",
       "    <tr>\n",
       "      <th>...</th>\n",
       "      <td>...</td>\n",
       "      <td>...</td>\n",
       "      <td>...</td>\n",
       "      <td>...</td>\n",
       "    </tr>\n",
       "    <tr>\n",
       "      <th>295</th>\n",
       "      <td>2022-01-23 03:28:46+00:00</td>\n",
       "      <td>Ibu Kota Negara Pindah ke Kaltim, Anies Yakin ...</td>\n",
       "      <td>kota negara pindah kaltim anies jakarta pusat ...</td>\n",
       "      <td>1</td>\n",
       "    </tr>\n",
       "    <tr>\n",
       "      <th>296</th>\n",
       "      <td>2022-01-23 03:22:56+00:00</td>\n",
       "      <td>5 Negara Ini Dinilai Gagal Memindahkan Ibu Kot...</td>\n",
       "      <td>negara dinilai gagal memindahkan kota pegawain...</td>\n",
       "      <td>1</td>\n",
       "    </tr>\n",
       "    <tr>\n",
       "      <th>297</th>\n",
       "      <td>2022-01-23 03:00:08+00:00</td>\n",
       "      <td>UU Ibu Kota Negara Bisa Dibatalkan MK, Ini Ala...</td>\n",
       "      <td>uu kota negara dibatalkan mk alasannya</td>\n",
       "      <td>0</td>\n",
       "    </tr>\n",
       "    <tr>\n",
       "      <th>298</th>\n",
       "      <td>2022-01-23 02:56:05+00:00</td>\n",
       "      <td>Disahkan DPR, Faisal Basri akan Gugat UU Ibu K...</td>\n",
       "      <td>disahkan dpr faisal basri gugat uu kota negara mk</td>\n",
       "      <td>0</td>\n",
       "    </tr>\n",
       "    <tr>\n",
       "      <th>299</th>\n",
       "      <td>2022-01-23 02:49:09+00:00</td>\n",
       "      <td>Kawan Kabinet, seperti telah diketahui, pemeri...</td>\n",
       "      <td>kawan kabinet pemerintah memutuskan nusantara ...</td>\n",
       "      <td>0</td>\n",
       "    </tr>\n",
       "  </tbody>\n",
       "</table>\n",
       "<p>300 rows × 4 columns</p>\n",
       "</div>"
      ],
      "text/plain": [
       "                    Created At  \\\n",
       "0    2022-01-26 23:56:45+00:00   \n",
       "1    2022-01-26 23:30:27+00:00   \n",
       "2    2022-01-26 22:47:31+00:00   \n",
       "3    2022-01-26 22:01:40+00:00   \n",
       "4    2022-01-26 22:01:39+00:00   \n",
       "..                         ...   \n",
       "295  2022-01-23 03:28:46+00:00   \n",
       "296  2022-01-23 03:22:56+00:00   \n",
       "297  2022-01-23 03:00:08+00:00   \n",
       "298  2022-01-23 02:56:05+00:00   \n",
       "299  2022-01-23 02:49:09+00:00   \n",
       "\n",
       "                                                 Tweet  \\\n",
       "0    Gak kredibel tapi jadi menteri. \\nMakin memper...   \n",
       "1    @democrazymedia Woi,  ibu kota itu salah 1 bag...   \n",
       "2    Kantor Staf Presiden (KSP) memastikan skema pe...   \n",
       "3    Pembangunan ibu kota negara (IKN0 membawa manf...   \n",
       "4    Pembangunan ibu kota negara (IKN0 membawa manf...   \n",
       "..                                                 ...   \n",
       "295  Ibu Kota Negara Pindah ke Kaltim, Anies Yakin ...   \n",
       "296  5 Negara Ini Dinilai Gagal Memindahkan Ibu Kot...   \n",
       "297  UU Ibu Kota Negara Bisa Dibatalkan MK, Ini Ala...   \n",
       "298  Disahkan DPR, Faisal Basri akan Gugat UU Ibu K...   \n",
       "299  Kawan Kabinet, seperti telah diketahui, pemeri...   \n",
       "\n",
       "                                          Tweet_bersih  Sentimen  \n",
       "0    tidak kredibel menteri memperburuk citra pemer...         1  \n",
       "1    kota salah negara tidak diumbar pembangunannya...         1  \n",
       "2    kantor staf presiden ksp skema pembiayaan pemb...         0  \n",
       "3    pembangunan kota negara ikn membawa manfaat pe...         0  \n",
       "4    pembangunan kota negara ikn membawa manfaat pe...         0  \n",
       "..                                                 ...       ...  \n",
       "295  kota negara pindah kaltim anies jakarta pusat ...         1  \n",
       "296  negara dinilai gagal memindahkan kota pegawain...         1  \n",
       "297             uu kota negara dibatalkan mk alasannya         0  \n",
       "298  disahkan dpr faisal basri gugat uu kota negara mk         0  \n",
       "299  kawan kabinet pemerintah memutuskan nusantara ...         0  \n",
       "\n",
       "[300 rows x 4 columns]"
      ]
     },
     "execution_count": 13,
     "metadata": {},
     "output_type": "execute_result"
    }
   ],
   "source": [
    "vector_tweet = vectorizer.transform(df[\"Tweet_bersih\"]).toarray()\n",
    "y_classification = model_GNB.predict(vector_tweet)\n",
    "\n",
    "df[\"Sentimen\"] = list(y_classification)\n",
    "df"
   ]
  },
  {
   "cell_type": "markdown",
   "id": "9b9cd4b1",
   "metadata": {},
   "source": [
    "Export our classified data set to CSV file."
   ]
  },
  {
   "cell_type": "code",
   "execution_count": 14,
   "id": "37a79056",
   "metadata": {},
   "outputs": [],
   "source": [
    "df.to_csv(\"IKN_Tweet_Sentiment.csv\", index=False)"
   ]
  },
  {
   "cell_type": "markdown",
   "id": "5cd5adca",
   "metadata": {},
   "source": [
    "##### Bi-gram Distribution Analysis"
   ]
  },
  {
   "cell_type": "markdown",
   "id": "4e3db4d0",
   "metadata": {},
   "source": [
    "Bi-gram Distribution is a text analysis method that combines every 2 words to a single group. We will use Bi-gram distribution to analyse positive and negative tweets."
   ]
  },
  {
   "cell_type": "code",
   "execution_count": 15,
   "id": "2fcfae48",
   "metadata": {},
   "outputs": [
    {
     "data": {
      "text/plain": [
       "(kota, negara)        46\n",
       "(negara, pindah)      10\n",
       "(dki, jakarta)         7\n",
       "(negara, ikn)          7\n",
       "(ridwan, kamil)        7\n",
       "(terima, kasih)        7\n",
       "(pindah, kota)         7\n",
       "(pemindahan, kota)     6\n",
       "(undang, undang)       6\n",
       "(presiden, jokowi)     4\n",
       "dtype: int64"
      ]
     },
     "execution_count": 15,
     "metadata": {},
     "output_type": "execute_result"
    }
   ],
   "source": [
    "# Positive sentiment\n",
    "df_pos = df[df[\"Sentimen\"] == 1][\"Tweet_bersih\"]\n",
    "tweet_pos = [word for tweet in df_pos for word in tweet.split()]\n",
    "\n",
    "bi_gram_pos = pd.Series(ngrams(tweet_pos, 2)).value_counts()\n",
    "bi_gram_pos[:10]"
   ]
  },
  {
   "cell_type": "code",
   "execution_count": 16,
   "id": "27c70aa5",
   "metadata": {},
   "outputs": [
    {
     "data": {
      "text/plain": [
       "(kota, negara)         147\n",
       "(negara, ikn)           41\n",
       "(pemindahan, kota)      24\n",
       "(kalimantan, timur)     21\n",
       "(edy, mulyadi)          16\n",
       "(pembangunan, kota)     15\n",
       "(negara, nusantara)     14\n",
       "(otorita, kota)          9\n",
       "(ikn, nusantara)         9\n",
       "(uu, kota)               9\n",
       "dtype: int64"
      ]
     },
     "execution_count": 16,
     "metadata": {},
     "output_type": "execute_result"
    }
   ],
   "source": [
    "# Negative sentiment\n",
    "df_neg = df[df[\"Sentimen\"] == 0][\"Tweet_bersih\"]\n",
    "tweet_neg = [word for tweet in df_neg for word in tweet.split()]\n",
    "\n",
    "bi_gram_neg = pd.Series(ngrams(tweet_neg, 2)).value_counts()\n",
    "bi_gram_neg[:10]"
   ]
  },
  {
   "cell_type": "markdown",
   "id": "71921621",
   "metadata": {},
   "source": [
    "Last but not least, we calculate the percentage for each sentiment."
   ]
  },
  {
   "cell_type": "code",
   "execution_count": 20,
   "id": "990b34cc",
   "metadata": {},
   "outputs": [
    {
     "name": "stdout",
     "output_type": "stream",
     "text": [
      "Persentase sentimen positif: 36.7%\n",
      "Persentase sentimen negatif: 63.3%\n"
     ]
    }
   ],
   "source": [
    "print(f\"Persentase sentimen positif: {(100*len(df_pos)/len(df)):.1f}%\")\n",
    "print(f\"Persentase sentimen negatif: {(100*len(df_neg)/len(df)):.1f}%\")"
   ]
  },
  {
   "cell_type": "markdown",
   "id": "32465b03",
   "metadata": {},
   "source": [
    "## Data Analysis"
   ]
  },
  {
   "cell_type": "markdown",
   "id": "44b5ef40",
   "metadata": {},
   "source": [
    "##### Text Analysis"
   ]
  },
  {
   "cell_type": "markdown",
   "id": "5797f81b",
   "metadata": {},
   "source": [
    "Based on the text analysis result, insights that can be obtained from DKI Jakarta resident tweets about Indonesia capital city transfer to Penajam Paser Utara, East Kalimantan is the total character per tweet are around 80-100 characters. Then, each tweet consists of an average of 9-12 words where each word is composed of 6-7 characters. Furthermore, the 3 most frequent mentioned words in DKI Jakarta resident tweets about this issue are \"nusantara\", \"kalimantan\", dan \"tidak\"."
   ]
  },
  {
   "cell_type": "markdown",
   "id": "d1bf1650",
   "metadata": {},
   "source": [
    "##### Topic Analysis"
   ]
  },
  {
   "cell_type": "markdown",
   "id": "01ab23e2",
   "metadata": {},
   "source": [
    "Based on the topic analysis result, we got 5 optimal number of topics. Here is the explanation:\n",
    "1. The first topic (index 0) is about the new capital city name polemic which called \"Nusantara\" which was announced by the Minister of National Development Planning/Head of Bappenas and approved by the President of the Republic of Indonesia.\n",
    "2. The second topic (index 1) is about the access road to the new capital city in East Kalimantan, which is an underwater toll road (submersible crossing) that planned to connect with existing Balikpapan-Samarinda toll road.\n",
    "3. The third topic (index 2) is about Edy Mulyadi case; a viral video in social media which showing him insulting the new capital city location, Kalimantan.\n",
    "4. The fourth topic (index 3) is about the ratification of the new capital city constitution in DPR RI plenary meeting, which assure the capital city transfer from DKI Jakarta to East Kalimantan.\n",
    "5. The fifth topic (index 4) is about the President of the Republic of Indonesia stated that 2 main criteria of the new capital city head of authority are experienced in leading a territory and has architect background. One of the people that meet these criteria is Ridwan Kamil."
   ]
  },
  {
   "cell_type": "markdown",
   "id": "76dacfb1",
   "metadata": {},
   "source": [
    "##### Sentiment Analysis"
   ]
  },
  {
   "cell_type": "markdown",
   "id": "c6331924",
   "metadata": {},
   "source": [
    "Based on the sentiment analysis result, insights that can be obtained from DKI Jakarta resident tweets about Indonesia capital city transfer to Penajam Paser Utara, East Kalimantan are the percentage of positive sentiment tweets are around 36.7%, whilst the percentage of negative sentiment tweets are around 63.3%.\n",
    "\n",
    "Ideally, on a policy released by the government, the public sentiment is positive, however in this issue the fact says otherwise. This could be means that the majority of the public are still disagreeing with the policy, hence this must become a concern for the government to do socialization or policy reassessment if when the time comes to implement the policy, they want everything runs smoothly and supported by all levels of society.\n",
    "\n",
    "Based on the Bi-gram distribution analysis result, insights that can be obtained are the positive sentiment tweets mostly discussed DKI Jakarta fate after the capital city is transferred. Whereas the negative sentiment tweets mostly discussed the public skepticism of the new capital city constitution and policy."
   ]
  },
  {
   "cell_type": "markdown",
   "id": "5b96f522",
   "metadata": {},
   "source": [
    "##### Conclusion"
   ]
  },
  {
   "cell_type": "markdown",
   "id": "65de81ea",
   "metadata": {},
   "source": [
    "Based on the 3 analysis above, here is the answer of the questions in the business understanding section:\n",
    "1. Does DKI Jakarta resident agree or disagree to transfer the capital city to Penajam Paser Utara, East Kalimantan?\n",
    "> About 63% or 2/3 of DKI Jakarta resident are still disagreeing to transfer the capital city to East Kalimantan.\n",
    "2. What is the reason or cause of their agreement/disagreement?\n",
    "> The disagreement exists because of 2 reasons. First, they are still questioning how DKI Jakarta fate after \"left away\". Second, they still skeptic to the new capital city constitution and policy."
   ]
  },
  {
   "cell_type": "markdown",
   "id": "7609e4bf",
   "metadata": {},
   "source": [
    "*The term \"DKI Jakarta resident\" mentioned in this micro project is DKI Jakarta resident that use Twitter.*"
   ]
  }
 ],
 "metadata": {
  "kernelspec": {
   "display_name": "Python 3 (ipykernel)",
   "language": "python",
   "name": "python3"
  },
  "language_info": {
   "codemirror_mode": {
    "name": "ipython",
    "version": 3
   },
   "file_extension": ".py",
   "mimetype": "text/x-python",
   "name": "python",
   "nbconvert_exporter": "python",
   "pygments_lexer": "ipython3",
   "version": "3.9.6"
  }
 },
 "nbformat": 4,
 "nbformat_minor": 5
}
