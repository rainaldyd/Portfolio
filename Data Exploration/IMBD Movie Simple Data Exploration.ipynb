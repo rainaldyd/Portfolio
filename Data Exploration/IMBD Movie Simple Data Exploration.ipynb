{
 "cells": [
  {
   "cell_type": "markdown",
   "metadata": {},
   "source": [
    "# IMBD Movie Simple Data Exploration using SQL Query"
   ]
  },
  {
   "cell_type": "markdown",
   "metadata": {},
   "source": [
    "This exploration is done using SQL query requested using Python and intended to discover what additional information can be obtained from these variables. The data used in this micro project is obtained from SanberCode Data Science training."
   ]
  },
  {
   "cell_type": "markdown",
   "metadata": {},
   "source": [
    "## Import necessary module"
   ]
  },
  {
   "cell_type": "code",
   "execution_count": 2,
   "metadata": {},
   "outputs": [],
   "source": [
    "from mysql.connector import connect\n",
    "import matplotlib.pyplot as plt\n",
    "import seaborn as sns\n",
    "\n",
    "sns.set()"
   ]
  },
  {
   "cell_type": "markdown",
   "metadata": {},
   "source": [
    "## Load data by connecting to MySQL database"
   ]
  },
  {
   "cell_type": "markdown",
   "metadata": {},
   "source": [
    "Before this code is built, I already create database called \"imbd\"."
   ]
  },
  {
   "cell_type": "code",
   "execution_count": 3,
   "metadata": {},
   "outputs": [
    {
     "name": "stdout",
     "output_type": "stream",
     "text": [
      "<mysql.connector.connection_cext.CMySQLConnection object at 0x00000259EB048310>\n"
     ]
    }
   ],
   "source": [
    "db = connect(\n",
    "    host=\"localhost\",\n",
    "    user=\"root\",\n",
    "    password=\"password\",\n",
    "    database=\"imdb\"\n",
    ")\n",
    "\n",
    "print(db)"
   ]
  },
  {
   "cell_type": "markdown",
   "metadata": {},
   "source": [
    "## Define function"
   ]
  },
  {
   "cell_type": "markdown",
   "metadata": {},
   "source": [
    "The first function is used to show directors with the most movies."
   ]
  },
  {
   "cell_type": "code",
   "execution_count": 4,
   "metadata": {},
   "outputs": [],
   "source": [
    "def most_maker_director():\n",
    "    db.reconnect(attempts=1, delay=0)\n",
    "    cursor_db = db.cursor()\n",
    "    query = '''\n",
    "    SELECT\n",
    "    director_name,\n",
    "    COUNT(director_name) AS movie_count\n",
    "    FROM movies\n",
    "    GROUP BY director_name\n",
    "    ORDER BY movie_count DESC\n",
    "    LIMIT 5\n",
    "    '''\n",
    "    cursor_db.execute(query)\n",
    "    data = cursor_db.fetchall()\n",
    "    cursor_db.close()\n",
    "    \n",
    "    i = 1\n",
    "    j = 0\n",
    "    result = []\n",
    "    for name in data:\n",
    "        result.append(f\"{i}. {name[0]}\")\n",
    "        j += 1\n",
    "        i += 1\n",
    "    \n",
    "    return print(*result, sep=\"\\n\")"
   ]
  },
  {
   "cell_type": "markdown",
   "metadata": {},
   "source": [
    "The second function is used to show the highest earning movie directors."
   ]
  },
  {
   "cell_type": "code",
   "execution_count": 5,
   "metadata": {},
   "outputs": [],
   "source": [
    "def most_profitable_director():\n",
    "    db.reconnect(attempts=1, delay=0)\n",
    "    cursor_db = db.cursor()\n",
    "    query = '''\n",
    "    SELECT\n",
    "    director_name,\n",
    "    SUM(gross) AS total_gross\n",
    "    FROM movies\n",
    "    GROUP BY director_name\n",
    "    ORDER BY total_gross DESC\n",
    "    LIMIT 10\n",
    "    '''\n",
    "    cursor_db.execute(query)\n",
    "    data = cursor_db.fetchall()\n",
    "    cursor_db.close()\n",
    "    \n",
    "    i = 1\n",
    "    j = 0\n",
    "    result = []\n",
    "    for name in data:\n",
    "        result.append(\"{}. {} - {:,.2f}\".format(i, name[0], name[1]))\n",
    "        j += 1\n",
    "        i += 1\n",
    "    \n",
    "    return print(*result, sep=\"\\n\")"
   ]
  },
  {
   "cell_type": "markdown",
   "metadata": {},
   "source": [
    "The third function is used to show most profitable movies."
   ]
  },
  {
   "cell_type": "code",
   "execution_count": 6,
   "metadata": {},
   "outputs": [],
   "source": [
    "def most_profitable_movie():\n",
    "    db.reconnect(attempts=1, delay=0)\n",
    "    cursor_db = db.cursor()\n",
    "    query = '''\n",
    "    SELECT\n",
    "    movie_title,\n",
    "    title_year,\n",
    "    gross\n",
    "    FROM movies\n",
    "    ORDER BY gross DESC\n",
    "    LIMIT 15\n",
    "    '''\n",
    "    cursor_db.execute(query)\n",
    "    data = cursor_db.fetchall()\n",
    "    cursor_db.close()\n",
    "    \n",
    "    i = 1\n",
    "    j = 0\n",
    "    result = []\n",
    "    for movie in data:\n",
    "        result.append(\"{}. {} ({:.0f}) - {:,.2f}\".format(i, movie[0], movie[1], movie[2]))\n",
    "        j += 1\n",
    "        i += 1\n",
    "    \n",
    "    return print(*result, sep=\"\\n\")"
   ]
  },
  {
   "cell_type": "markdown",
   "metadata": {},
   "source": [
    "The fourth function is used to visualize the movie budget distribution of a particular year."
   ]
  },
  {
   "cell_type": "code",
   "execution_count": 7,
   "metadata": {},
   "outputs": [],
   "source": [
    "def budget_distribution(year):\n",
    "    db.reconnect(attempts=1, delay=0)\n",
    "    cursor_db = db.cursor()\n",
    "    query = '''\n",
    "    SELECT budget\n",
    "    FROM movies\n",
    "    WHERE\n",
    "    title_year = {} AND\n",
    "    budget IS NOT NULL\n",
    "    '''.format(year)\n",
    "    cursor_db.execute(query)\n",
    "    data = cursor_db.fetchall()\n",
    "    cursor_db.close()\n",
    "    \n",
    "    result = []\n",
    "    for budget in data:\n",
    "        result.append(budget[0])\n",
    "    \n",
    "    sns.histplot(result,\n",
    "                 bins=20,\n",
    "                 kde=True,\n",
    "                 color=\"#7f7fff\")\n",
    "    plt.title(\"Budget Movie Year {}\".format(year),\n",
    "              fontweight=\"bold\",\n",
    "              fontsize=15,\n",
    "              pad=15)\n",
    "    plt.xlabel(\"Budget\")\n",
    "    plt.ylabel(\"Count\");\n",
    "    return"
   ]
  },
  {
   "cell_type": "markdown",
   "metadata": {},
   "source": [
    "### Exploration result"
   ]
  },
  {
   "cell_type": "code",
   "execution_count": 8,
   "metadata": {},
   "outputs": [
    {
     "name": "stdout",
     "output_type": "stream",
     "text": [
      "1. Steven Spielberg\n",
      "2. Woody Allen\n",
      "3. Martin Scorsese\n",
      "4. Clint Eastwood\n",
      "5. Ridley Scott\n"
     ]
    }
   ],
   "source": [
    "most_maker_director()"
   ]
  },
  {
   "cell_type": "code",
   "execution_count": 9,
   "metadata": {},
   "outputs": [
    {
     "name": "stdout",
     "output_type": "stream",
     "text": [
      "1. Steven Spielberg - 4,114,233,101.00\n",
      "2. Peter Jackson - 2,592,969,279.00\n",
      "3. Michael Bay - 2,231,242,537.00\n",
      "4. Tim Burton - 2,071,275,480.00\n",
      "5. Sam Raimi - 2,049,549,198.00\n",
      "6. James Cameron - 1,948,125,910.00\n",
      "7. Christopher Nolan - 1,813,227,576.00\n",
      "8. George Lucas - 1,741,418,480.00\n",
      "9. Robert Zemeckis - 1,619,309,108.00\n",
      "10. Chris Columbus - 1,618,707,624.00\n"
     ]
    }
   ],
   "source": [
    "most_profitable_director()"
   ]
  },
  {
   "cell_type": "markdown",
   "metadata": {},
   "source": [
    "As we can infer from the exploration, Stephen Spielberg ranked first both as director with the most movies and the highest earning movie director. Even though Woody Allen and Martin Scorsese come after Stephen Spielberg as directors with the most movies, they did not make much earning and they did not even rank in the top 10 of the highest earning movie director."
   ]
  },
  {
   "cell_type": "code",
   "execution_count": 10,
   "metadata": {},
   "outputs": [
    {
     "name": "stdout",
     "output_type": "stream",
     "text": [
      "1. Avatar  (2009) - 760,505,847.00\n",
      "2. Titanic  (1997) - 658,672,302.00\n",
      "3. Jurassic World  (2015) - 652,177,271.00\n",
      "4. The Avengers  (2012) - 623,279,547.00\n",
      "5. The Dark Knight  (2008) - 533,316,061.00\n",
      "6. Star Wars: Episode I - The Phantom Menace  (1999) - 474,544,677.00\n",
      "7. Star Wars: Episode IV - A New Hope  (1977) - 460,935,665.00\n",
      "8. Avengers: Age of Ultron  (2015) - 458,991,599.00\n",
      "9. The Dark Knight Rises  (2012) - 448,130,642.00\n",
      "10. Shrek 2  (2004) - 436,471,036.00\n",
      "11. E.T. the Extra-Terrestrial  (1982) - 434,949,459.00\n",
      "12. The Hunger Games: Catching Fire  (2013) - 424,645,577.00\n",
      "13. Pirates of the Caribbean: Dead Man's Chest  (2006) - 423,032,628.00\n",
      "14. The Lion King  (1994) - 422,783,777.00\n",
      "15. Toy Story 3  (2010) - 414,984,497.00\n"
     ]
    }
   ],
   "source": [
    "most_profitable_movie()"
   ]
  },
  {
   "cell_type": "markdown",
   "metadata": {},
   "source": [
    "From the exploration, we can infer that Star Wars: Episode IV - A New Hope (1977) is ranked first for around 20 years before Titanic was made in 1997. This achievement is still unbeatable by Titanic, even though Titanic makes more earning but it ranked first just for around 12 years before Avatar was made in 2009."
   ]
  },
  {
   "cell_type": "code",
   "execution_count": 16,
   "metadata": {},
   "outputs": [
    {
     "data": {
      "image/png": "[encoded data removed]",
      "text/plain": [
       "<Figure size 432x288 with 1 Axes>"
      ]
     },
     "metadata": {},
     "output_type": "display_data"
    }
   ],
   "source": [
    "year = 2000\n",
    "budget_distribution(year)"
   ]
  },
  {
   "cell_type": "code",
   "execution_count": 18,
   "metadata": {},
   "outputs": [
    {
     "data": {
      "image/png": "[encoded data removed]",
      "text/plain": [
       "<Figure size 432x288 with 1 Axes>"
      ]
     },
     "metadata": {},
     "output_type": "display_data"
    }
   ],
   "source": [
    "year = 2015\n",
    "budget_distribution(year)"
   ]
  },
  {
   "cell_type": "markdown",
   "metadata": {},
   "source": [
    "As we can infer from the exploration, even though there are 15 years difference there is still one similar work method in the movie industry, that is directors tend to produce movies with as low budget as possible while maintaining the movie quality."
   ]
  }
 ],
 "metadata": {
  "interpreter": {
   "hash": "b02d93efda564da1915d42b0288c26f05ac833e7645184a564f32e638d57cc3e"
  },
  "kernelspec": {
   "display_name": "Python 3 (ipykernel)",
   "language": "python",
   "name": "python3"
  },
  "language_info": {
   "codemirror_mode": {
    "name": "ipython",
    "version": 3
   },
   "file_extension": ".py",
   "mimetype": "text/x-python",
   "name": "python",
   "nbconvert_exporter": "python",
   "pygments_lexer": "ipython3",
   "version": "3.9.6"
  }
 },
 "nbformat": 4,
 "nbformat_minor": 2
}
